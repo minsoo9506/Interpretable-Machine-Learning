{
 "cells": [
  {
   "cell_type": "markdown",
   "metadata": {},
   "source": [
    "## Decision Tree\n",
    "\n",
    "- 각 instance는 하나의 leaf node에 떨어지게 된다.\n",
    "- 이를 나누는 기준은 regerssion의 경우 y의 variance를 가장 작게하는 기준, classification의 경우 Gini index를 사용한다."
   ]
  },
  {
   "cell_type": "markdown",
   "metadata": {},
   "source": [
    "### Interpertation\n",
    "- 모든 edge들은 AND로 이어져있으며 어떤 기준으로 split되었는지 파악할 수 있다.\n",
    "\n",
    "#### Feature importance\n",
    "- 모든 splits 확인하여 parent node에 비해 variance와 Gini index를 얼마나 줄였는지 확인한다.\n",
    "\n",
    "### 장단점\n",
    "- ideal for capturing interaction\n",
    "- no need to transform features\n",
    "- good interpretaton(terminal nodes가 많지 않다면)\n",
    "- 결과를 통해 변수의 특정 값에 따라 what if~? 라는 생각이 가능하다.\n",
    "- fail to deal with linear relationships. split해서 create a step function을 하니 비효율적이다.\n",
    "- lack of smoothness, unstable"
   ]
  },
  {
   "cell_type": "markdown",
   "metadata": {},
   "source": [
    "## Decision Rules\n",
    "\n",
    "## OneR\n",
    "\n",
    "## Baysian Rule Lists\n",
    "\n",
    "## RuleFit"
   ]
  }
 ],
 "metadata": {
  "kernelspec": {
   "display_name": "Python 3",
   "language": "python",
   "name": "python3"
  },
  "language_info": {
   "codemirror_mode": {
    "name": "ipython",
    "version": 3
   },
   "file_extension": ".py",
   "mimetype": "text/x-python",
   "name": "python",
   "nbconvert_exporter": "python",
   "pygments_lexer": "ipython3",
   "version": "3.6.3"
  }
 },
 "nbformat": 4,
 "nbformat_minor": 2
}
