{
 "cells": [
  {
   "cell_type": "markdown",
   "metadata": {},
   "source": [
    "## Partial Dependence Plot(PDP)\n",
    "- show the marginal effect one or two features have on the predicted outcom of a machine learning model."
   ]
  },
  {
   "cell_type": "markdown",
   "metadata": {},
   "source": [
    "- 변수가 target값에 영향을 주는 정도를 파악할 수 있다.\n",
    "\n",
    "\n",
    "- 예시\n",
    "\n",
    "1.계절이라는 변수에 대해 해석하고 싶다. \n",
    "\n",
    "2.먼저, model을 만든다. \n",
    "\n",
    "3.계절변수를 모두 각각 spring, summer,fall, winter로 바꾸고 (나머지는 유지) 만든 model로 prediction을 하고 모든 값에 대해 평균을 낸다.\n",
    "\n",
    "4.이렇게 하면 나머지는 그대로인데 계절변수의 값만 바뀌었을 때 어떻게 변하는지 파악할 수 있다.\n",
    "\n",
    "5.numeric data도 똑같다. 해당 변수의 값마다하면 된다.(오래걸릴수도, 데이터가 sparse한 지역에서는 다소 불안정할 수도)"
   ]
  },
  {
   "cell_type": "markdown",
   "metadata": {},
   "source": [
    "#### 장단점\n",
    "- 목표로 삼은 변수가 다른 변수와의 관계가 없다면 해석이 상당히 clear해진다. (단점이기도 하다)\n",
    "- easy to implement\n",
    "- 현실적으로 maximum number of features 가 2개이다. (시각화때문에)\n",
    "- 변수가 상관관계가 없다고 가정한다.\n",
    "- Heterogeneous effects might be hidden."
   ]
  },
  {
   "cell_type": "markdown",
   "metadata": {},
   "source": [
    "sklearn"
   ]
  },
  {
   "cell_type": "code",
   "execution_count": 1,
   "metadata": {},
   "outputs": [
    {
     "name": "stderr",
     "output_type": "stream",
     "text": [
      "C:\\anaconda\\lib\\site-packages\\statsmodels\\compat\\pandas.py:56: FutureWarning: The pandas.core.datetools module is deprecated and will be removed in a future version. Please use the pandas.tseries module instead.\n",
      "  from pandas.core import datetools\n"
     ]
    }
   ],
   "source": [
    "import pandas as pd\n",
    "import numpy as np\n",
    "import matplotlib.pyplot as plt\n",
    "import seaborn as sns\n",
    "from sklearn.preprocessing import StandardScaler\n",
    "import statsmodels.api as sm\n",
    "\n",
    "%matplotlib inline \n",
    "%config InlineBackend.figure_format = 'retina' \n",
    "\n",
    "# sns.set_style(style='white')\n",
    "sns.set_context(context ='paper')"
   ]
  },
  {
   "cell_type": "code",
   "execution_count": 2,
   "metadata": {},
   "outputs": [],
   "source": [
    "day = pd.read_csv('data/day.csv')"
   ]
  },
  {
   "cell_type": "code",
   "execution_count": 3,
   "metadata": {},
   "outputs": [
    {
     "data": {
      "text/html": [
       "<div>\n",
       "<style>\n",
       "    .dataframe thead tr:only-child th {\n",
       "        text-align: right;\n",
       "    }\n",
       "\n",
       "    .dataframe thead th {\n",
       "        text-align: left;\n",
       "    }\n",
       "\n",
       "    .dataframe tbody tr th {\n",
       "        vertical-align: top;\n",
       "    }\n",
       "</style>\n",
       "<table border=\"1\" class=\"dataframe\">\n",
       "  <thead>\n",
       "    <tr style=\"text-align: right;\">\n",
       "      <th></th>\n",
       "      <th>instant</th>\n",
       "      <th>dteday</th>\n",
       "      <th>season</th>\n",
       "      <th>yr</th>\n",
       "      <th>mnth</th>\n",
       "      <th>holiday</th>\n",
       "      <th>weekday</th>\n",
       "      <th>workingday</th>\n",
       "      <th>weathersit</th>\n",
       "      <th>temp</th>\n",
       "      <th>atemp</th>\n",
       "      <th>hum</th>\n",
       "      <th>windspeed</th>\n",
       "      <th>casual</th>\n",
       "      <th>registered</th>\n",
       "      <th>cnt</th>\n",
       "    </tr>\n",
       "  </thead>\n",
       "  <tbody>\n",
       "    <tr>\n",
       "      <th>0</th>\n",
       "      <td>1</td>\n",
       "      <td>2011-01-01</td>\n",
       "      <td>1</td>\n",
       "      <td>0</td>\n",
       "      <td>1</td>\n",
       "      <td>0</td>\n",
       "      <td>6</td>\n",
       "      <td>0</td>\n",
       "      <td>2</td>\n",
       "      <td>0.344167</td>\n",
       "      <td>0.363625</td>\n",
       "      <td>0.805833</td>\n",
       "      <td>0.160446</td>\n",
       "      <td>331</td>\n",
       "      <td>654</td>\n",
       "      <td>985</td>\n",
       "    </tr>\n",
       "  </tbody>\n",
       "</table>\n",
       "</div>"
      ],
      "text/plain": [
       "   instant      dteday  season  yr  mnth  holiday  weekday  workingday  \\\n",
       "0        1  2011-01-01       1   0     1        0        6           0   \n",
       "\n",
       "   weathersit      temp     atemp       hum  windspeed  casual  registered  \\\n",
       "0           2  0.344167  0.363625  0.805833   0.160446     331         654   \n",
       "\n",
       "   cnt  \n",
       "0  985  "
      ]
     },
     "execution_count": 3,
     "metadata": {},
     "output_type": "execute_result"
    }
   ],
   "source": [
    "day.head(1)"
   ]
  },
  {
   "cell_type": "code",
   "execution_count": 11,
   "metadata": {},
   "outputs": [],
   "source": [
    "X = day.iloc[:,2:-1]\n",
    "y = day.cnt"
   ]
  },
  {
   "cell_type": "code",
   "execution_count": 14,
   "metadata": {},
   "outputs": [
    {
     "data": {
      "image/png": "[encoded data removed]",
      "text/plain": [
       "<matplotlib.figure.Figure at 0x1b7ac65bd30>"
      ]
     },
     "metadata": {
      "image/png": {
       "height": 204,
       "width": 431
      },
      "needs_background": "light"
     },
     "output_type": "display_data"
    }
   ],
   "source": [
    "from sklearn.ensemble.partial_dependence import partial_dependence, plot_partial_dependence\n",
    "from sklearn.ensemble import GradientBoostingRegressor\n",
    "\n",
    "# scikit-learn originally implemented partial dependence plots only for Gradient Boosting models\n",
    "# this was due to an implementation detail, and a future release will support all model types.\n",
    "\n",
    "my_model = GradientBoostingRegressor()\n",
    "\n",
    "# fit the model as usual\n",
    "my_model.fit(X, y)\n",
    "\n",
    "# Here we make the plot\n",
    "my_plots = plot_partial_dependence(my_model,       \n",
    "                                   features=[0, 2], # column numbers of plots we want to show\n",
    "                                   X=X,            # raw predictors data.\n",
    "                                   feature_names=['season','yr','mnth'], # labels on graphs\n",
    "                                   grid_resolution=10) # number of values to plot on x axis"
   ]
  },
  {
   "cell_type": "markdown",
   "metadata": {},
   "source": [
    "이 친구들도 PDP를 포함한 model interpretation을 위한 라이브러리라고 보면 된다. sklearn보다 더 다양하고 좋아보인다. 설치가 귀찮아서 일단 안했다. \n",
    "- pdpbox\n",
    "- skater"
   ]
  },
  {
   "cell_type": "markdown",
   "metadata": {},
   "source": [
    "## Individual Conditional Expectation(ICE)"
   ]
  },
  {
   "cell_type": "markdown",
   "metadata": {},
   "source": [
    "- PDP는 모든 observation들의 prediction을 평균을 내었다면 ICE는 각각 observation들의 변화를 살펴보는 것이다.\n",
    "- PDP에 비해 변수간 interaction에 대한 insight를 더 준다.\n",
    "- 라이브러리는 PDP와 동일한듯 보인다.\n",
    "\n",
    "#### 장단점\n",
    "- PDP 보다 heterogeneous한 relationship을 보여줄 수 있다.\n",
    "- 평균적인 모습을 보기 어렵다. 복잡할 수 있다."
   ]
  },
  {
   "cell_type": "markdown",
   "metadata": {},
   "source": [
    "## Accumulated Local Effects (ALE) plot\n",
    "\n",
    "- describe how features influence the prediction of a machine learning model on average."
   ]
  },
  {
   "cell_type": "markdown",
   "metadata": {},
   "source": [
    "### motivation and intuition\n",
    "- PDP는 correlated 된 변수가 있는 경우 상당히 취약하다.\n",
    "- 예를 들어, 집 넓이(우리가 알고 싶은 변수)가 10인 경우에 대해 prediction의 평균을 계산한다고 할 때, 방의 갯수가 5개인 observation에 대해서는 현실적으로 말이 안된다. 이는 부정확한 예측을 초래할 수 있다.\n",
    "- 원래 집 크기가 10인 경우에는 방이 3개 정도라고 하자. 우리는 집 크기가 10일 때 영향을 보고 싶다.\n",
    "- PDP의 경우, 집 크기를 10으로 하고 방의 갯수를 marginalize한다. 즉, 방의 갯수가 1인 경우, 10인 경우 모두 계산의 범위에 들어간다.\n",
    "- 이를 방지하기 위해 M-Plot이라는 개념이 생긴다. 이는 conditional dist를 이용한다. 즉, 방의 크기가 3 근처인 obseravtion들에 대해서만 계산의 범위(평균내는 것은 동일)에 둔다는 것이다. 이를 통해 (상관성있는)두 변수의 effect를 추정할 수 있다. 하지만 이런 effect가 mixed되어 있다는 단점이 있다.\n",
    "- 이를 위해 ALE가 나왔다.\n",
    "- ALE도 conditional dist에 기반을 둔다. ALE는 방 갯수를 제외한 집 넓이의 영향만 보여준다. 평균 대신에 differences in predictions을 계산한다. 집 넓이가 9이고 11인 것의 prediction 차이를 통해 집 넓이(10인경우)의 pure effect를 계산한다."
   ]
  },
  {
   "cell_type": "markdown",
   "metadata": {},
   "source": [
    "### estimation\n",
    "- to estimate local effect, 변수를 많은 intervals로 나누고 predictions의 차이를 계산한다. 이러한 과정은 gradient를 approximates하는 것으로 이해할 수 있다.\n",
    "\n",
    "- 내용이 어려워서 일단은 나중에 하기로 한다."
   ]
  },
  {
   "cell_type": "markdown",
   "metadata": {},
   "source": [
    "## Feature Interaction\n",
    "\n",
    "- 책에서 알려준 방법은 Friedman's H-statistic 이다."
   ]
  },
  {
   "cell_type": "markdown",
   "metadata": {},
   "source": [
    "## Feature Importance\n",
    "\n",
    "- permutation feature importance measurement 방법(python skater에 있다고 한다)\n",
    "\n",
    "1.original model의 error를 계산한다.\n",
    "\n",
    "2.변수별로 변수의 값을 suffle하여 error를 계산한다.\n",
    "\n",
    "3.error의 변화폭이 클수록 중요한 변수이다.\n",
    "\n",
    "- model reliance (model-agnostic)"
   ]
  },
  {
   "cell_type": "markdown",
   "metadata": {},
   "source": [
    "should I compute Importance on training or test data?\n",
    "- training data를 통해 feature importance를 본다면 그 모델은 overfitting된 상태일 수도 있으며 이는 부정확한 사실이 될 수도 있다.\n",
    "- trained model에서 중요했던 변수가 test data를 통해 예측할 때는 중요하지 않을 수도 있는 것이다.\n",
    "- 저자는 정답이 없다고 한다.\n",
    "- 일단 train data와 test data를 모두 알고 있는 상태라면 두 집단이 비슷한 모습을 갖고 있는지 잘 살펴봐야할 것이다."
   ]
  },
  {
   "cell_type": "markdown",
   "metadata": {},
   "source": [
    "### 장단점(permutation feature importance의)\n",
    "- nice interpretation\n",
    "- highly compressed, global insight\n",
    "- 모델을 retraning 시킬 필요가 없다.\n",
    "- 자동적으로 변수가 모든 interaction을 고려한다. permuting하여 변수간의 interaction을 파괴한다. 이는 model performance에 있어서 main feature effect와 interaction effect를 고려하는 것이다. (물론 단점이기도 하다)\n",
    "- train data or test data를 사용할지 불확실하다.\n",
    "- permutation을 할 때마다 결과가 달라질 수 있다.\n",
    "- error를 계산해야되는 때문에 output값을 알고 있어야 한다.\n",
    "- PDP에서와 마찬가지로 변수가 correlated 되어 있으면 impoertance 결과가 biased 되어 있을 수도 있다.\n",
    "- (permutation 뿐만 아니라) feature importance를 계산하는데 있어서 correlated 되어있는 변수는 변수의 importance의 순위에 영향을 준다. 예를 들어, RF에서 x1이 가장 중요한 변수이다. 근데 이와 상관관계가 높은 x2가 추가되었다고 생각해보자. 비슷하기에 트리마다 다르게 x1과 x2를 중요하다고 할 것이다. 그러면 결국 최종 importance 산정에 있어서 가장 중요했던 x1은 중간순위로 밀려날 수 있는 것이다."
   ]
  },
  {
   "cell_type": "markdown",
   "metadata": {},
   "source": [
    "## Global Surrogate\n",
    "- global surrogate model is an interpretable model that is traind to approximate the predictions of a black box model."
   ]
  },
  {
   "cell_type": "markdown",
   "metadata": {},
   "source": [
    "### Theory\n",
    "- surrogate model의 목적은 prediction을 approximate하고 동시에 interpretable하게 하는 것이다.\n",
    "\n",
    "surrogate model의 과정은 다음과 같다.\n",
    "\n",
    "1.black box model을 fit한다.\n",
    "\n",
    "2.interpretable한 model type을 고른다. (linear model, DT)\n",
    "\n",
    "3.interpretable한 model을 fit한다.\n",
    "\n",
    "4.그 모델의 prediction이 black box model을 prediction을 잘 보여주는지 확인한다."
   ]
  },
  {
   "cell_type": "markdown",
   "metadata": {},
   "source": [
    "### 장단점\n",
    "- flexible\n",
    "- surrogate model이 black box model을 어느정도 해석할 때 만족할 것인가에 대한 기준이 없다.\n",
    "- 결론이 data가 아니라 model에 대한 것이다."
   ]
  }
 ],
 "metadata": {
  "kernelspec": {
   "display_name": "Python 3",
   "language": "python",
   "name": "python3"
  },
  "language_info": {
   "codemirror_mode": {
    "name": "ipython",
    "version": 3
   },
   "file_extension": ".py",
   "mimetype": "text/x-python",
   "name": "python",
   "nbconvert_exporter": "python",
   "pygments_lexer": "ipython3",
   "version": "3.6.3"
  }
 },
 "nbformat": 4,
 "nbformat_minor": 2
}
